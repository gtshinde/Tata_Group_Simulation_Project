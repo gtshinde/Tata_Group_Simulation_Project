{
 "cells": [
  {
   "cell_type": "code",
   "execution_count": 2,
   "metadata": {},
   "outputs": [],
   "source": [
    "import pandas as pd\n",
    "import numpy as np"
   ]
  },
  {
   "cell_type": "markdown",
   "metadata": {},
   "source": [
    "This code loads an Excel file and prints the first few rows to identify and understand potential data issues."
   ]
  },
  {
   "cell_type": "code",
   "execution_count": 4,
   "metadata": {},
   "outputs": [
    {
     "name": "stdout",
     "output_type": "stream",
     "text": [
      "  InvoiceNo StockCode                          Description  Quantity  \\\n",
      "0    536365    85123A   WHITE HANGING HEART T-LIGHT HOLDER         6   \n",
      "1    536365     71053                  WHITE METAL LANTERN         6   \n",
      "2    536365    84406B       CREAM CUPID HEARTS COAT HANGER         8   \n",
      "3    536365    84029G  KNITTED UNION FLAG HOT WATER BOTTLE         6   \n",
      "4    536365    84029E       RED WOOLLY HOTTIE WHITE HEART.         6   \n",
      "5    536365     22752         SET 7 BABUSHKA NESTING BOXES         2   \n",
      "6    536365     21730    GLASS STAR FROSTED T-LIGHT HOLDER         6   \n",
      "7    536366     22633               HAND WARMER UNION JACK         6   \n",
      "8    536366     22632            HAND WARMER RED POLKA DOT         6   \n",
      "9    536367     84879        ASSORTED COLOUR BIRD ORNAMENT        32   \n",
      "\n",
      "          InvoiceDate  UnitPrice  CustomerID         Country  \n",
      "0 2010-12-01 08:26:00       2.55     17850.0  United Kingdom  \n",
      "1 2010-12-01 08:26:00       3.39     17850.0  United Kingdom  \n",
      "2 2010-12-01 08:26:00       2.75     17850.0  United Kingdom  \n",
      "3 2010-12-01 08:26:00       3.39     17850.0  United Kingdom  \n",
      "4 2010-12-01 08:26:00       3.39     17850.0  United Kingdom  \n",
      "5 2010-12-01 08:26:00       7.65     17850.0  United Kingdom  \n",
      "6 2010-12-01 08:26:00       4.25     17850.0  United Kingdom  \n",
      "7 2010-12-01 08:28:00       1.85     17850.0  United Kingdom  \n",
      "8 2010-12-01 08:28:00       1.85     17850.0  United Kingdom  \n",
      "9 2010-12-01 08:34:00       1.69     13047.0  United Kingdom  \n",
      "<class 'pandas.core.frame.DataFrame'>\n",
      "RangeIndex: 541909 entries, 0 to 541908\n",
      "Data columns (total 8 columns):\n",
      " #   Column       Non-Null Count   Dtype         \n",
      "---  ------       --------------   -----         \n",
      " 0   InvoiceNo    541909 non-null  object        \n",
      " 1   StockCode    541909 non-null  object        \n",
      " 2   Description  540455 non-null  object        \n",
      " 3   Quantity     541909 non-null  int64         \n",
      " 4   InvoiceDate  541909 non-null  datetime64[ns]\n",
      " 5   UnitPrice    541909 non-null  float64       \n",
      " 6   CustomerID   406829 non-null  float64       \n",
      " 7   Country      541909 non-null  object        \n",
      "dtypes: datetime64[ns](1), float64(2), int64(1), object(4)\n",
      "memory usage: 33.1+ MB\n",
      "None\n",
      "\n"
     ]
    }
   ],
   "source": [
    "\n",
    "\n",
    "# Load the file\n",
    "file_path = './Online_Retail.xlsx'\n",
    "df = pd.read_excel(file_path, engine='openpyxl')\n",
    "\n",
    "\n",
    "print(df.head(10))\n",
    "print(df.info())\n",
    "print('\\\n",
    "')"
   ]
  },
  {
   "cell_type": "markdown",
   "metadata": {},
   "source": [
    "The below code snippet will check for data quality issues such as missing values, negative quantities, zero or negative prices, invalid customer IDs, and cancelled invoices."
   ]
  },
  {
   "cell_type": "code",
   "execution_count": 5,
   "metadata": {},
   "outputs": [
    {
     "name": "stdout",
     "output_type": "stream",
     "text": [
      "1. Missing Values:\n",
      "InvoiceNo           0\n",
      "StockCode           0\n",
      "Description      1454\n",
      "Quantity            0\n",
      "InvoiceDate         0\n",
      "UnitPrice           0\n",
      "CustomerID     135080\n",
      "Country             0\n",
      "dtype: int64\n",
      "\n",
      "Number of negative quantities: 10624\n",
      "\n",
      "Number of zero/negative prices: 2517\n",
      "\n",
      "Number of missing CustomerIDs: 135080\n",
      "\n",
      "Cancelled Invoices (Starting with C): 9288\n",
      "\n",
      "Example of rows with negative quantities:\n",
      "    InvoiceNo StockCode                      Description  Quantity  \\\n",
      "141   C536379         D                         Discount        -1   \n",
      "154   C536383    35004C  SET OF 3 COLOURED  FLYING DUCKS        -1   \n",
      "235   C536391     22556   PLASTERS IN TIN CIRCUS PARADE        -12   \n",
      "\n",
      "            InvoiceDate  UnitPrice  CustomerID         Country  \n",
      "141 2010-12-01 09:41:00      27.50     14527.0  United Kingdom  \n",
      "154 2010-12-01 09:49:00       4.65     15311.0  United Kingdom  \n",
      "235 2010-12-01 10:24:00       1.65     17548.0  United Kingdom  \n",
      "\n",
      "Example of rows with zero/negative prices:\n",
      "     InvoiceNo StockCode Description  Quantity         InvoiceDate  UnitPrice  \\\n",
      "622     536414     22139         NaN        56 2010-12-01 11:52:00        0.0   \n",
      "1970    536545     21134         NaN         1 2010-12-01 14:32:00        0.0   \n",
      "1971    536546     22145         NaN         1 2010-12-01 14:33:00        0.0   \n",
      "\n",
      "      CustomerID         Country  \n",
      "622          NaN  United Kingdom  \n",
      "1970         NaN  United Kingdom  \n",
      "1971         NaN  United Kingdom  \n",
      "\n",
      "Unique countries in the dataset:\n",
      "['United Kingdom' 'France' 'Australia' 'Netherlands' 'Germany' 'Norway'\n",
      " 'EIRE' 'Switzerland' 'Spain' 'Poland' 'Portugal' 'Italy' 'Belgium'\n",
      " 'Lithuania' 'Japan' 'Iceland' 'Channel Islands' 'Denmark' 'Cyprus'\n",
      " 'Sweden' 'Austria' 'Israel' 'Finland' 'Bahrain' 'Greece' 'Hong Kong'\n",
      " 'Singapore' 'Lebanon' 'United Arab Emirates' 'Saudi Arabia'\n",
      " 'Czech Republic' 'Canada' 'Unspecified' 'Brazil' 'USA'\n",
      " 'European Community' 'Malta' 'RSA']\n"
     ]
    }
   ],
   "source": [
    "# Check for various data quality issues\n",
    "print(\"1. Missing Values:\")\n",
    "print(df.isnull().sum())\n",
    "\n",
    "print(\"\\nNumber of negative quantities:\", len(df[df['Quantity'] < 0]))\n",
    "\n",
    "print(\"\\nNumber of zero/negative prices:\", len(df[df['UnitPrice'] <= 0]))\n",
    "\n",
    "print(\"\\nNumber of missing CustomerIDs:\", df['CustomerID'].isnull().sum())\n",
    "print(\"\\nCancelled Invoices (Starting with C):\", len(df[df['InvoiceNo'].astype(str).str.startswith('C')]))\n",
    "\n",
    "\n",
    "# Show some examples of problematic rows\n",
    "print(\"\\nExample of rows with negative quantities:\")\n",
    "print(df[df['Quantity'] < 0].head(3))\n",
    "\n",
    "print(\"\\nExample of rows with zero/negative prices:\")\n",
    "print(df[df['UnitPrice'] <= 0].head(3))\n",
    "\n",
    "print(\"\\nUnique countries in the dataset:\")\n",
    "print(df['Country'].unique())"
   ]
  },
  {
   "cell_type": "markdown",
   "metadata": {},
   "source": [
    "This code snippet cleans an online retail dataset by creating a transaction type column, removing missing descriptions, filtering out negative prices, and calculating the total value of each transaction."
   ]
  },
  {
   "cell_type": "code",
   "execution_count": 16,
   "metadata": {},
   "outputs": [
    {
     "name": "stdout",
     "output_type": "stream",
     "text": [
      "Original dataset shape: (541909, 8)\n",
      "Cleaned dataset shape: (540453, 10)\n",
      "Sample of cleaned data:\n",
      "  InvoiceNo StockCode                          Description  Quantity  \\\n",
      "0    536365    85123A   WHITE HANGING HEART T-LIGHT HOLDER         6   \n",
      "1    536365     71053                  WHITE METAL LANTERN         6   \n",
      "2    536365    84406B       CREAM CUPID HEARTS COAT HANGER         8   \n",
      "3    536365    84029G  KNITTED UNION FLAG HOT WATER BOTTLE         6   \n",
      "4    536365    84029E       RED WOOLLY HOTTIE WHITE HEART.         6   \n",
      "\n",
      "          InvoiceDate  UnitPrice  CustomerID         Country Transaction_Type  \\\n",
      "0 2010-12-01 08:26:00       2.55     17850.0  United Kingdom         Purchase   \n",
      "1 2010-12-01 08:26:00       3.39     17850.0  United Kingdom         Purchase   \n",
      "2 2010-12-01 08:26:00       2.75     17850.0  United Kingdom         Purchase   \n",
      "3 2010-12-01 08:26:00       3.39     17850.0  United Kingdom         Purchase   \n",
      "4 2010-12-01 08:26:00       3.39     17850.0  United Kingdom         Purchase   \n",
      "\n",
      "   Total_Value  \n",
      "0        15.30  \n",
      "1        20.34  \n",
      "2        22.00  \n",
      "3        20.34  \n",
      "4        20.34  \n",
      "Cleaned file saved as 'Online_Retail_Cleaned.xlsx'\n"
     ]
    }
   ],
   "source": [
    "\n",
    "\n",
    "# Create a copy for cleaning\n",
    "df_cleaned = df.copy()\n",
    "\n",
    "# 1. Create Transaction Type column\n",
    "df_cleaned['Transaction_Type'] = np.where(df_cleaned['InvoiceNo'].astype(str).str.startswith('C'), 'Return', 'Purchase')\n",
    "\n",
    "# 2. Remove rows with missing Description\n",
    "df_cleaned = df_cleaned.dropna(subset=['Description'])\n",
    "\n",
    "# 3. Remove rows with negative prices (but keep negative quantities as they're returns)\n",
    "df_cleaned = df_cleaned[df_cleaned['UnitPrice'] >= 0]\n",
    "\n",
    "# 4. Calculate the total value of each transaction\n",
    "df_cleaned['Total_Value'] = df_cleaned['Quantity'] * df_cleaned['UnitPrice']\n",
    "\n",
    "# Show the impact of cleaning\n",
    "print(\"Original dataset shape:\", df.shape)\n",
    "print(\"Cleaned dataset shape:\", df_cleaned.shape)\n",
    "print(\"\\\n",
    "Sample of cleaned data:\")\n",
    "print(df_cleaned.head())\n",
    "\n",
    "# Save the cleaned dataset\n",
    "df_cleaned.to_excel('Online_Retail_Cleaned.xlsx', index=False)\n",
    "print(\"\\\n",
    "Cleaned file saved as 'Online_Retail_Cleaned.xlsx'\")"
   ]
  }
 ],
 "metadata": {
  "kernelspec": {
   "display_name": "Python 3",
   "language": "python",
   "name": "python3"
  },
  "language_info": {
   "codemirror_mode": {
    "name": "ipython",
    "version": 3
   },
   "file_extension": ".py",
   "mimetype": "text/x-python",
   "name": "python",
   "nbconvert_exporter": "python",
   "pygments_lexer": "ipython3",
   "version": "3.13.1"
  }
 },
 "nbformat": 4,
 "nbformat_minor": 2
}
